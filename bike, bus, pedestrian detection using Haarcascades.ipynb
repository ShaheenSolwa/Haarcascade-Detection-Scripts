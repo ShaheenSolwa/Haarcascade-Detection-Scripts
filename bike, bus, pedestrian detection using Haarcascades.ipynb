{
 "cells": [
  {
   "cell_type": "code",
   "execution_count": null,
   "metadata": {},
   "outputs": [],
   "source": [
    "import cv2\n",
    "\n",
    "bike = cv2.CascadeClassifier(r\"C:/Users/shahe/Anaconda3/Library/etc/haarcascades/bike.xml\")\n",
    "\n",
    "if not bike:\n",
    "    print(\"not loaded\")\n",
    "    \n",
    "video = cv2.VideoCapture(r\"C:/Users/shahe/Desktop/bikes.mp4\")\n",
    "\n",
    "while video.isOpened():\n",
    "    ret, frame = video.read()\n",
    "    if (type(frame) == type(None)):\n",
    "        break\n",
    "    gray = cv2.cvtColor(frame, cv2.COLOR_BGR2GRAY)\n",
    "    bikes = bike.detectMultiScale(gray, 1.19,1)\n",
    "    for (x,y,w,h) in bikes:\n",
    "        cv2.rectangle(frame, (x,y), (x+w, y+h), (0,255,0), 2)\n",
    "        \n",
    "    cv2.imshow('Video', frame)\n",
    "    if cv2.waitKey(1) & 0xFF == ord('q'):\n",
    "        break\n",
    "    \n",
    "video.release()\n",
    "cv2.destroyAllWindows()"
   ]
  },
  {
   "cell_type": "code",
   "execution_count": 1,
   "metadata": {},
   "outputs": [],
   "source": [
    "import cv2\n",
    "\n",
    "bus = cv2.CascadeClassifier(r\"C:/Users/shahe/Anaconda3/Library/etc/haarcascades/Bus_front.xml\")\n",
    "\n",
    "if not bus:\n",
    "    print(\"not loaded\")\n",
    "    \n",
    "video = cv2.VideoCapture(r\"C:/Users/shahe/Desktop/bus1.mp4\")\n",
    "\n",
    "while video.isOpened():\n",
    "    ret, frame = video.read()\n",
    "    if (type(frame) == type(None)):\n",
    "        break\n",
    "    gray = cv2.cvtColor(frame, cv2.COLOR_BGR2GRAY)\n",
    "    buss = bus.detectMultiScale(gray, 1.19,1)\n",
    "    for (x,y,w,h) in buss:\n",
    "        cv2.rectangle(frame, (x,y), (x+w, y+h), (0,255,0), 2)\n",
    "        \n",
    "    cv2.imshow('Video', frame)\n",
    "    if cv2.waitKey(1) & 0xFF == ord('q'):\n",
    "        break\n",
    "    \n",
    "video.release()\n",
    "cv2.destroyAllWindows()"
   ]
  },
  {
   "cell_type": "code",
   "execution_count": 6,
   "metadata": {},
   "outputs": [],
   "source": [
    "import cv2\n",
    "\n",
    "ped = cv2.CascadeClassifier(r\"C:/Users/shahe/Anaconda3/Library/etc/haarcascades/pedestrian.xml\")\n",
    "\n",
    "if not ped:\n",
    "    print(\"not loaded\")\n",
    "    \n",
    "video = cv2.VideoCapture(r\"C:/Users/shahe/Desktop/pedestrians.avi\")\n",
    "\n",
    "while video.isOpened():\n",
    "    ret, frame = video.read()\n",
    "    if (type(frame) == type(None)):\n",
    "        break\n",
    "    gray = cv2.cvtColor(frame, cv2.COLOR_BGR2GRAY)\n",
    "    peds = ped.detectMultiScale(gray, 1.3,2)\n",
    "    for (x,y,w,h) in peds:\n",
    "        cv2.rectangle(frame, (x,y), (x+w, y+h), (0,255,0), 2)\n",
    "        \n",
    "    cv2.imshow('Video', frame)\n",
    "    if cv2.waitKey(1) & 0xFF == ord('q'):\n",
    "        break\n",
    "    \n",
    "video.release()\n",
    "cv2.destroyAllWindows()"
   ]
  },
  {
   "cell_type": "code",
   "execution_count": null,
   "metadata": {},
   "outputs": [],
   "source": []
  }
 ],
 "metadata": {
  "kernelspec": {
   "display_name": "Python 3",
   "language": "python",
   "name": "python3"
  },
  "language_info": {
   "codemirror_mode": {
    "name": "ipython",
    "version": 3
   },
   "file_extension": ".py",
   "mimetype": "text/x-python",
   "name": "python",
   "nbconvert_exporter": "python",
   "pygments_lexer": "ipython3",
   "version": "3.7.1"
  }
 },
 "nbformat": 4,
 "nbformat_minor": 2
}
